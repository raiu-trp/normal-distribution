{
 "cells": [
  {
   "cell_type": "code",
   "execution_count": 3,
   "id": "d00af996",
   "metadata": {},
   "outputs": [],
   "source": [
    "import math\n",
    "import numpy as np\n",
    "import matplotlib.pyplot as plt\n",
    "#正規分布を定義\n",
    "\n",
    "def normal_distribution(x, mu, sigma):\n",
    "    y = 1 / np.sqrt(2 * np.pi * sigma ** 2) * np.exp(-(x - mu) ** 2 / (2 * sigma ** 2))\n",
    "    return y"
   ]
  },
  {
   "cell_type": "code",
   "execution_count": 4,
   "id": "c1d0aa9a",
   "metadata": {},
   "outputs": [
    {
     "data": {
      "image/png": "[encoded data removed]",
      "text/plain": [
       "<Figure size 432x288 with 1 Axes>"
      ]
     },
     "metadata": {
      "needs_background": "light"
     },
     "output_type": "display_data"
    }
   ],
   "source": [
    "#正規分布のパラメータ設定\n",
    "mu = 116.6\n",
    "sigma = 4.8\n",
    "\n",
    "#描画パラメータ設定\n",
    "x_min = 80\n",
    "x_max = 150\n",
    "x_num = 100\n",
    "\n",
    "#正規分布の計算\n",
    "x = np.linspace(x_min, x_max, x_num)\n",
    "y = normal_distribution(x, mu, sigma)\n",
    "\n",
    "#正規分布の描画\n",
    "plt.plot(x, y, color=\"k\")\n",
    "plt.show()\n",
    "%matplotlib inline"
   ]
  },
  {
   "cell_type": "code",
   "execution_count": 5,
   "id": "a05cf14c",
   "metadata": {},
   "outputs": [
    {
     "name": "stdout",
     "output_type": "stream",
     "text": [
      "確率: 0.1653959487393015\n"
     ]
    }
   ],
   "source": [
    "#積分範囲の設定\n",
    "x_min = 115\n",
    "x_max = 117\n",
    "x_num = 100\n",
    "\n",
    "#積分範囲における正規分布の計算\n",
    "x = np.linspace(x_min, x_max, x_num)\n",
    "y = normal_distribution(x, mu, sigma)\n",
    "\n",
    "#積分の計算\n",
    "dx = (x_max - x_min) / (x_num - 1)\n",
    "prob = 0\n",
    "for i in range(x_num):\n",
    "    y = normal_distribution(x[i], mu, sigma)\n",
    "    prob += y*dx\n",
    "print(\"確率:\", prob)"
   ]
  }
 ],
 "metadata": {
  "kernelspec": {
   "display_name": "Python 3 (ipykernel)",
   "language": "python",
   "name": "python3"
  },
  "language_info": {
   "codemirror_mode": {
    "name": "ipython",
    "version": 3
   },
   "file_extension": ".py",
   "mimetype": "text/x-python",
   "name": "python",
   "nbconvert_exporter": "python",
   "pygments_lexer": "ipython3",
   "version": "3.9.13"
  }
 },
 "nbformat": 4,
 "nbformat_minor": 5
}
